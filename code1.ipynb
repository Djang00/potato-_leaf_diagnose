{
 "cells": [
  {
   "cell_type": "code",
   "execution_count": 1,
   "id": "0d879b3e-5d1e-4072-9e91-965624c4101e",
   "metadata": {},
   "outputs": [],
   "source": [
    "import tensorflow as tf\n",
    "import tensorflow.keras as keras\n",
    "import numpy as np\n",
    "import matplotlib.pyplot as plt\n",
    "import cv2\n",
    "import os\n",
    "import glob\n",
    "from keras.preprocessing.image import ImageDataGenerator\n",
    "from keras.preprocessing import image\n",
    "from tensorflow.keras.utils import to_categorical\n",
    "from tensorflow.keras import models, layers\n",
    "from tensorflow.keras.models import Sequential\n",
    "from tensorflow.keras.models import load_model\n",
    "from tensorflow.keras.preprocessing import image"
   ]
  },
  {
   "cell_type": "code",
   "execution_count": 2,
   "id": "7f74d85b-52c8-4e0f-b2ea-fb45e94b9d7e",
   "metadata": {},
   "outputs": [],
   "source": [
    "SIZE= 256\n",
    "SEED_TRAINING=121\n",
    "SEED_TESTING=197\n",
    "SEED_VALIDATION=164\n",
    "CHANNELS=3\n",
    "n_classes=3\n",
    "EPOCHS=20\n",
    "BATCH_SIZE=32\n",
    "input_shape=(256, 256, 3)"
   ]
  },
  {
   "cell_type": "code",
   "execution_count": 3,
   "id": "84fae3fb-ecd1-4710-9781-891c1afe4f0d",
   "metadata": {},
   "outputs": [],
   "source": [
    "train_datagen= ImageDataGenerator(\n",
    "        rescale=1./255,\n",
    "        rotation_range=30,\n",
    "        shear_range=0.2,\n",
    "        zoom_range=0.2,\n",
    "        width_shift_range=0.05,\n",
    "        height_shift_range=0.05,\n",
    "        horizontal_flip=True,\n",
    "        fill_mode='nearest')"
   ]
  },
  {
   "cell_type": "code",
   "execution_count": null,
   "id": "e4e7379c-b9d1-4e9c-aadf-df0cb87e7c41",
   "metadata": {},
   "outputs": [],
   "source": [
    "validation_datagen= ImageDataGenerator(rescale=1./255)\n",
    "test_datagen= ImageDataGenerator(rescale=1./255)"
   ]
  },
  {
   "cell_type": "code",
   "execution_count": null,
   "id": "fbdec853-8e9c-4570-9247-70d09086df7a",
   "metadata": {},
   "outputs": [],
   "source": [
    "train_generator = train_datagen.flow_from_directory(\n",
    "        directory= 'E:\\RAR\\AI\\test\\imgclass\\data2\\train',\n",
    "        target_size= (255,256), \n",
    "        batch_size= 32,\n",
    "        class_mode= 'categorical',\n",
    "        color_mode=\"rgb\")"
   ]
  },
  {
   "cell_type": "code",
   "execution_count": null,
   "id": "e50532d4-d6a0-4f8f-88fc-630553f64f26",
   "metadata": {},
   "outputs": [],
   "source": [
    "validation_generator= validation_datagen.flow_from_directory(\n",
    "            directory= '../input/potato-leaf-disease-dataset/Potato/Valid',\n",
    "            target_size= (256,256),\n",
    "            batch_size= BATCH_SIZE,\n",
    "            class_mode= 'categorical',\n",
    "            color_mode=\"rgb\")"
   ]
  },
  {
   "cell_type": "code",
   "execution_count": null,
   "id": "595e80d2-35b3-40e6-8b35-6fbd0527036e",
   "metadata": {},
   "outputs": [],
   "source": [
    "test_generator = test_datagen.flow_from_directory(\n",
    "        directory='../input/potato-leaf-disease-dataset/Potato/Test',\n",
    "        target_size = (256, 256),\n",
    "        batch_size = BATCH_SIZE,\n",
    "        class_mode = 'categorical',\n",
    "        color_mode = \"rgb\")"
   ]
  },
  {
   "cell_type": "code",
   "execution_count": null,
   "id": "5d985278-abe0-412c-8968-9a2045811d96",
   "metadata": {},
   "outputs": [],
   "source": [
    "model=keras.models.Sequential([\n",
    "        keras.layers.Conv2D(filters=32, kernel_size=(3,3), activation = 'relu', input_shape = input_shape),\n",
    "        keras.layers.MaxPooling2D((2, 2)),\n",
    "        keras.layers.Dropout(0.5),\n",
    "        keras.layers.Conv2D(filters=64, kernel_size=(3,3), activation = 'relu', padding = 'same'),\n",
    "        keras.layers.MaxPooling2D((2,2)),\n",
    "        keras.layers.Dropout(0.5),\n",
    "        keras.layers.Conv2D(filters=64, kernel_size=(3,3), activation = 'relu', padding = 'same'),\n",
    "        keras.layers.MaxPooling2D((2,2)),\n",
    "        keras.layers.Conv2D(filters=64, kernel_size=(3,3), activation = 'relu', padding = 'same'),\n",
    "        keras.layers.MaxPooling2D((2,2)),\n",
    "        keras.layers.Conv2D(filters=64, kernel_size=(3,3), activation = 'relu', padding = 'same'),\n",
    "        keras.layers.MaxPooling2D((2,2)),\n",
    "        keras.layers.Conv2D(filters=64, kernel_size=(3,3), activation = 'relu', padding = 'same'),\n",
    "        keras.layers.MaxPooling2D((2,2)),\n",
    "        keras.layers.Flatten(),\n",
    "        keras.layers.Dense(32, activation ='relu'),\n",
    "        keras.layers.Dense(n_classes, activation='softmax')\n",
    "    ])"
   ]
  },
  {
   "cell_type": "code",
   "execution_count": null,
   "id": "bf5b1bcf-a461-4a40-ad85-5da62b412ff6",
   "metadata": {},
   "outputs": [],
   "source": [
    "model.summary()"
   ]
  },
  {
   "cell_type": "code",
   "execution_count": null,
   "id": "c1a93012-b3a0-44b4-9639-9c6f36fdd618",
   "metadata": {},
   "outputs": [],
   "source": [
    "model.compile(\n",
    "    optimizer='adam',\n",
    "    loss= tf.keras.losses.CategoricalCrossentropy(),\n",
    "    metrics=['accuracy'])"
   ]
  },
  {
   "cell_type": "code",
   "execution_count": null,
   "id": "5bc91fed-ef1f-4a77-8852-b9bdc14c8628",
   "metadata": {},
   "outputs": [],
   "source": [
    "potato = model.fit_generator(\n",
    "        train_generator,\n",
    "        steps_per_epoch = train_generator.n // train_generator.batch_size,\n",
    "        epochs = EPOCHS,\n",
    "        validation_data = validation_generator, \n",
    "        validation_steps = validation_generator.n // validation_generator.batch_size )"
   ]
  },
  {
   "cell_type": "code",
   "execution_count": null,
   "id": "69031b22-4b42-4ceb-9e1c-5db88ccb9f13",
   "metadata": {},
   "outputs": [],
   "source": [
    "score= model.evaluate(test_generator)\n",
    "print('Test loss:',score[0])\n",
    "print('Test accuracy:',score[1])"
   ]
  },
  {
   "cell_type": "code",
   "execution_count": null,
   "id": "bf5e17f9-42c4-4bc3-8db9-ccdd7b782fc4",
   "metadata": {},
   "outputs": [],
   "source": [
    "acc= history.history['accuracy']\n",
    "val_acc=history.history['val_accuracy']\n",
    "loss=history.history['loss']\n",
    "val_loss= history.history['val_loss']"
   ]
  },
  {
   "cell_type": "code",
   "execution_count": null,
   "id": "894c792b-0d3d-47f7-8012-1421f0ec071d",
   "metadata": {},
   "outputs": [],
   "source": [
    "plt.figure(figsize=(8, 8))\n",
    "plt.subplot(1, 2, 1)\n",
    "plt.plot(range(EPOCHS), acc, label='Training Accuracy')\n",
    "plt.plot(range(EPOCHS), val_acc, label='Validation Accuracy')\n",
    "plt.legend(loc='lower right')\n",
    "plt.title('Training and Validation Accuracy')\n",
    "plt.subplot(1, 2, 2)\n",
    "plt.plot(range(EPOCHS), loss, label='Training Loss')\n",
    "plt.plot(range(EPOCHS), val_loss, label='Validation Loss')\n",
    "plt.legend(loc='upper right')\n",
    "plt.title('Training and Validation Loss')\n",
    "plt.show()"
   ]
  },
  {
   "cell_type": "code",
   "execution_count": null,
   "id": "1e77a5ab-a27c-421b-8871-b65c6f4d1890",
   "metadata": {},
   "outputs": [],
   "source": [
    "train_generator.class_indices"
   ]
  },
  {
   "cell_type": "code",
   "execution_count": null,
   "id": "9c49cc59-c441-4584-985c-54331c9d641e",
   "metadata": {},
   "outputs": [],
   "source": [
    "class_names = list(train_generator.class_indices.keys())\n",
    "class_names"
   ]
  },
  {
   "cell_type": "code",
   "execution_count": null,
   "id": "0e4890f8-025b-45ce-aa02-f0eaf1c18590",
   "metadata": {},
   "outputs": [],
   "source": [
    "model.save('potato_test_modedl_5.h5')"
   ]
  },
  {
   "cell_type": "code",
   "execution_count": null,
   "id": "9448a1d6-3f75-49c4-9ed4-762e842d771b",
   "metadata": {},
   "outputs": [],
   "source": [
    "def prediction(img):\n",
    "    class_names = ['Early_blight', 'Healthy', 'Late_blight']\n",
    "\n",
    "    my_image = image.load_img(img, SIZE)\n",
    "    my_image = image.img_to_array(my_image)\n",
    "    my_image = np.expand_dims(my_image, 0)\n",
    "\n",
    "    out = np.round(model.predict(my_image)[0], 2)\n",
    "    fig = plt.figure(figsize=(7, 4))\n",
    "    plt.barh(class_names, out, color='lightgray',edgecolor='red', linewidth=1, height=0.5)\n",
    "\n",
    "    for index, value in enumerate(out):\n",
    "        plt.text(value/2 + 0.1, index, f\"{100*value:.2f}%\", fontweight='bold')\n",
    "\n",
    "    plt.xticks([])\n",
    "    plt.yticks([0, 1, 2], labels=class_names, fontweight='bold', fontsize=14)\n",
    "    fig.savefig('pred_img.png', bbox_inches='tight')\n",
    "    return plt.show()"
   ]
  },
  {
   "cell_type": "code",
   "execution_count": null,
   "id": "4b115c91-e494-4beb-8ff9-f74635d8053e",
   "metadata": {},
   "outputs": [],
   "source": [
    "img = cv2.imread('early2.jpg')\n",
    "plt.imshow(img)\n",
    "plt.show"
   ]
  },
  {
   "cell_type": "code",
   "execution_count": null,
   "id": "e4f55074-7164-46ab-9046-729a4a3d3d51",
   "metadata": {},
   "outputs": [],
   "source": [
    "resize = tf.image.resize(img,(256,256))\n",
    "plt.imshow(resize.numpy().astype(int))\n",
    "plt.show()"
   ]
  },
  {
   "cell_type": "code",
   "execution_count": null,
   "id": "2ad359e5-2790-476b-be6d-5cf2ea73dd0e",
   "metadata": {},
   "outputs": [],
   "source": [
    "prediction(resize)"
   ]
  }
 ],
 "metadata": {
  "kernelspec": {
   "display_name": "imgclass",
   "language": "python",
   "name": "imgclass"
  },
  "language_info": {
   "codemirror_mode": {
    "name": "ipython",
    "version": 3
   },
   "file_extension": ".py",
   "mimetype": "text/x-python",
   "name": "python",
   "nbconvert_exporter": "python",
   "pygments_lexer": "ipython3",
   "version": "3.9.13"
  }
 },
 "nbformat": 4,
 "nbformat_minor": 5
}
